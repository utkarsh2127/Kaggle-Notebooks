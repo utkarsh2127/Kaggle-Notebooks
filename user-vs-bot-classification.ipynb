{
 "cells": [
  {
   "cell_type": "code",
   "execution_count": 1,
   "id": "7b4056e0",
   "metadata": {
    "_cell_guid": "b1076dfc-b9ad-4769-8c92-a6c4dae69d19",
    "_uuid": "8f2839f25d086af736a60e9eeb907d3b93b6e0e5",
    "execution": {
     "iopub.execute_input": "2025-04-03T17:55:15.314156Z",
     "iopub.status.busy": "2025-04-03T17:55:15.313845Z",
     "iopub.status.idle": "2025-04-03T17:55:16.238477Z",
     "shell.execute_reply": "2025-04-03T17:55:16.237375Z"
    },
    "papermill": {
     "duration": 0.93515,
     "end_time": "2025-04-03T17:55:16.240106",
     "exception": false,
     "start_time": "2025-04-03T17:55:15.304956",
     "status": "completed"
    },
    "tags": []
   },
   "outputs": [
    {
     "name": "stdout",
     "output_type": "stream",
     "text": [
      "/kaggle/input/users-vs-bots-classification/bots_vs_users.csv\n"
     ]
    }
   ],
   "source": [
    "# This Python 3 environment comes with many helpful analytics libraries installed\n",
    "# It is defined by the kaggle/python Docker image: https://github.com/kaggle/docker-python\n",
    "# For example, here's several helpful packages to load\n",
    "\n",
    "import numpy as np # linear algebra\n",
    "import pandas as pd # data processing, CSV file I/O (e.g. pd.read_csv)\n",
    "\n",
    "# Input data files are available in the read-only \"../input/\" directory\n",
    "# For example, running this (by clicking run or pressing Shift+Enter) will list all files under the input directory\n",
    "\n",
    "import os\n",
    "for dirname, _, filenames in os.walk('/kaggle/input'):\n",
    "    for filename in filenames:\n",
    "        print(os.path.join(dirname, filename))\n",
    "\n",
    "# You can write up to 20GB to the current directory (/kaggle/working/) that gets preserved as output when you create a version using \"Save & Run All\" \n",
    "# You can also write temporary files to /kaggle/temp/, but they won't be saved outside of the current session"
   ]
  },
  {
   "cell_type": "markdown",
   "id": "533c9527",
   "metadata": {
    "papermill": {
     "duration": 0.007023,
     "end_time": "2025-04-03T17:55:16.254768",
     "exception": false,
     "start_time": "2025-04-03T17:55:16.247745",
     "status": "completed"
    },
    "tags": []
   },
   "source": [
    "# Importing Library and Dataset"
   ]
  },
  {
   "cell_type": "code",
   "execution_count": 2,
   "id": "9dbf2d08",
   "metadata": {
    "execution": {
     "iopub.execute_input": "2025-04-03T17:55:16.270279Z",
     "iopub.status.busy": "2025-04-03T17:55:16.269826Z",
     "iopub.status.idle": "2025-04-03T17:55:25.805391Z",
     "shell.execute_reply": "2025-04-03T17:55:25.804440Z"
    },
    "papermill": {
     "duration": 9.545314,
     "end_time": "2025-04-03T17:55:25.807160",
     "exception": false,
     "start_time": "2025-04-03T17:55:16.261846",
     "status": "completed"
    },
    "tags": []
   },
   "outputs": [],
   "source": [
    "import numpy as np\n",
    "import pandas as pd\n",
    "import matplotlib.pyplot as plt\n",
    "import seaborn as sns\n",
    "import shap\n",
    "\n",
    "from sklearn.model_selection import train_test_split\n",
    "from sklearn.pipeline import Pipeline\n",
    "from sklearn.compose import ColumnTransformer\n",
    "from sklearn.preprocessing import LabelEncoder, OrdinalEncoder\n",
    "from sklearn.impute import SimpleImputer\n",
    "from sklearn.ensemble import VotingClassifier\n",
    "from catboost import CatBoostClassifier\n",
    "from sklearn.metrics import classification_report, confusion_matrix\n",
    "from sklearn.metrics import classification_report, confusion_matrix\n",
    "from sklearn.model_selection import RandomizedSearchCV\n",
    "from xgboost import XGBClassifier\n",
    "from sklearn.metrics import classification_report, confusion_matrix\n",
    "from sklearn.ensemble import RandomForestClassifier"
   ]
  },
  {
   "cell_type": "code",
   "execution_count": 3,
   "id": "53e4af55",
   "metadata": {
    "execution": {
     "iopub.execute_input": "2025-04-03T17:55:25.823163Z",
     "iopub.status.busy": "2025-04-03T17:55:25.822709Z",
     "iopub.status.idle": "2025-04-03T17:55:25.908086Z",
     "shell.execute_reply": "2025-04-03T17:55:25.907066Z"
    },
    "papermill": {
     "duration": 0.094908,
     "end_time": "2025-04-03T17:55:25.909747",
     "exception": false,
     "start_time": "2025-04-03T17:55:25.814839",
     "status": "completed"
    },
    "tags": []
   },
   "outputs": [
    {
     "name": "stdout",
     "output_type": "stream",
     "text": [
      "Shape of dataset: (5874, 60)\n"
     ]
    }
   ],
   "source": [
    "df = pd.read_csv('/kaggle/input/users-vs-bots-classification/bots_vs_users.csv')\n",
    "\n",
    "# View shape and first few rows\n",
    "print(\"Shape of dataset:\", df.shape)"
   ]
  },
  {
   "cell_type": "markdown",
   "id": "0777e4fb",
   "metadata": {
    "papermill": {
     "duration": 0.006949,
     "end_time": "2025-04-03T17:55:25.924133",
     "exception": false,
     "start_time": "2025-04-03T17:55:25.917184",
     "status": "completed"
    },
    "tags": []
   },
   "source": [
    "# Preprocessing"
   ]
  },
  {
   "cell_type": "code",
   "execution_count": 4,
   "id": "09fa463c",
   "metadata": {
    "execution": {
     "iopub.execute_input": "2025-04-03T17:55:25.939613Z",
     "iopub.status.busy": "2025-04-03T17:55:25.939244Z",
     "iopub.status.idle": "2025-04-03T17:55:25.980444Z",
     "shell.execute_reply": "2025-04-03T17:55:25.979249Z"
    },
    "papermill": {
     "duration": 0.051139,
     "end_time": "2025-04-03T17:55:25.982391",
     "exception": false,
     "start_time": "2025-04-03T17:55:25.931252",
     "status": "completed"
    },
    "tags": []
   },
   "outputs": [
    {
     "name": "stderr",
     "output_type": "stream",
     "text": [
      "invalid value encountered in greater\n",
      "invalid value encountered in less\n",
      "invalid value encountered in greater\n",
      "invalid value encountered in greater\n",
      "invalid value encountered in less\n",
      "invalid value encountered in greater\n"
     ]
    },
    {
     "data": {
      "text/html": [
       "<div>\n",
       "<style scoped>\n",
       "    .dataframe tbody tr th:only-of-type {\n",
       "        vertical-align: middle;\n",
       "    }\n",
       "\n",
       "    .dataframe tbody tr th {\n",
       "        vertical-align: top;\n",
       "    }\n",
       "\n",
       "    .dataframe thead th {\n",
       "        text-align: right;\n",
       "    }\n",
       "</style>\n",
       "<table border=\"1\" class=\"dataframe\">\n",
       "  <thead>\n",
       "    <tr style=\"text-align: right;\">\n",
       "      <th></th>\n",
       "      <th>has_domain</th>\n",
       "      <th>has_birth_date</th>\n",
       "      <th>has_photo</th>\n",
       "      <th>can_post_on_wall</th>\n",
       "      <th>can_send_message</th>\n",
       "      <th>has_website</th>\n",
       "      <th>gender</th>\n",
       "      <th>has_short_name</th>\n",
       "      <th>has_first_name</th>\n",
       "      <th>has_last_name</th>\n",
       "      <th>...</th>\n",
       "      <th>ads_ratio</th>\n",
       "      <th>avg_views</th>\n",
       "      <th>posting_frequency_days</th>\n",
       "      <th>phone_numbers_ratio</th>\n",
       "      <th>avg_text_uniqueness</th>\n",
       "      <th>city</th>\n",
       "      <th>has_occupation</th>\n",
       "      <th>occupation_type_university</th>\n",
       "      <th>occupation_type_work</th>\n",
       "      <th>has_personal_data</th>\n",
       "    </tr>\n",
       "  </thead>\n",
       "  <tbody>\n",
       "    <tr>\n",
       "      <th>0</th>\n",
       "      <td>1.0</td>\n",
       "      <td>1.0</td>\n",
       "      <td>0.0</td>\n",
       "      <td>0.0</td>\n",
       "      <td>0.0</td>\n",
       "      <td>0.0</td>\n",
       "      <td>1.0</td>\n",
       "      <td>1.0</td>\n",
       "      <td>1.0</td>\n",
       "      <td>1.0</td>\n",
       "      <td>...</td>\n",
       "      <td>NaN</td>\n",
       "      <td>NaN</td>\n",
       "      <td>NaN</td>\n",
       "      <td>NaN</td>\n",
       "      <td>NaN</td>\n",
       "      <td>Unknown</td>\n",
       "      <td>Unknown</td>\n",
       "      <td>Unknown</td>\n",
       "      <td>Unknown</td>\n",
       "      <td>Unknown</td>\n",
       "    </tr>\n",
       "    <tr>\n",
       "      <th>1</th>\n",
       "      <td>1.0</td>\n",
       "      <td>1.0</td>\n",
       "      <td>0.0</td>\n",
       "      <td>0.0</td>\n",
       "      <td>0.0</td>\n",
       "      <td>0.0</td>\n",
       "      <td>1.0</td>\n",
       "      <td>1.0</td>\n",
       "      <td>1.0</td>\n",
       "      <td>1.0</td>\n",
       "      <td>...</td>\n",
       "      <td>NaN</td>\n",
       "      <td>NaN</td>\n",
       "      <td>NaN</td>\n",
       "      <td>NaN</td>\n",
       "      <td>NaN</td>\n",
       "      <td>Unknown</td>\n",
       "      <td>Unknown</td>\n",
       "      <td>Unknown</td>\n",
       "      <td>Unknown</td>\n",
       "      <td>Unknown</td>\n",
       "    </tr>\n",
       "    <tr>\n",
       "      <th>2</th>\n",
       "      <td>1.0</td>\n",
       "      <td>1.0</td>\n",
       "      <td>0.0</td>\n",
       "      <td>0.0</td>\n",
       "      <td>0.0</td>\n",
       "      <td>0.0</td>\n",
       "      <td>1.0</td>\n",
       "      <td>1.0</td>\n",
       "      <td>1.0</td>\n",
       "      <td>1.0</td>\n",
       "      <td>...</td>\n",
       "      <td>NaN</td>\n",
       "      <td>NaN</td>\n",
       "      <td>NaN</td>\n",
       "      <td>NaN</td>\n",
       "      <td>NaN</td>\n",
       "      <td>Unknown</td>\n",
       "      <td>Unknown</td>\n",
       "      <td>Unknown</td>\n",
       "      <td>Unknown</td>\n",
       "      <td>Unknown</td>\n",
       "    </tr>\n",
       "    <tr>\n",
       "      <th>3</th>\n",
       "      <td>1.0</td>\n",
       "      <td>1.0</td>\n",
       "      <td>0.0</td>\n",
       "      <td>0.0</td>\n",
       "      <td>0.0</td>\n",
       "      <td>0.0</td>\n",
       "      <td>1.0</td>\n",
       "      <td>1.0</td>\n",
       "      <td>1.0</td>\n",
       "      <td>1.0</td>\n",
       "      <td>...</td>\n",
       "      <td>NaN</td>\n",
       "      <td>NaN</td>\n",
       "      <td>NaN</td>\n",
       "      <td>NaN</td>\n",
       "      <td>NaN</td>\n",
       "      <td>Unknown</td>\n",
       "      <td>Unknown</td>\n",
       "      <td>Unknown</td>\n",
       "      <td>Unknown</td>\n",
       "      <td>Unknown</td>\n",
       "    </tr>\n",
       "    <tr>\n",
       "      <th>4</th>\n",
       "      <td>1.0</td>\n",
       "      <td>1.0</td>\n",
       "      <td>0.0</td>\n",
       "      <td>0.0</td>\n",
       "      <td>0.0</td>\n",
       "      <td>0.0</td>\n",
       "      <td>1.0</td>\n",
       "      <td>1.0</td>\n",
       "      <td>1.0</td>\n",
       "      <td>1.0</td>\n",
       "      <td>...</td>\n",
       "      <td>NaN</td>\n",
       "      <td>NaN</td>\n",
       "      <td>NaN</td>\n",
       "      <td>NaN</td>\n",
       "      <td>NaN</td>\n",
       "      <td>Unknown</td>\n",
       "      <td>Unknown</td>\n",
       "      <td>Unknown</td>\n",
       "      <td>Unknown</td>\n",
       "      <td>Unknown</td>\n",
       "    </tr>\n",
       "  </tbody>\n",
       "</table>\n",
       "<p>5 rows × 60 columns</p>\n",
       "</div>"
      ],
      "text/plain": [
       "  has_domain has_birth_date has_photo can_post_on_wall can_send_message  \\\n",
       "0        1.0            1.0       0.0              0.0              0.0   \n",
       "1        1.0            1.0       0.0              0.0              0.0   \n",
       "2        1.0            1.0       0.0              0.0              0.0   \n",
       "3        1.0            1.0       0.0              0.0              0.0   \n",
       "4        1.0            1.0       0.0              0.0              0.0   \n",
       "\n",
       "  has_website gender has_short_name has_first_name has_last_name  ...  \\\n",
       "0         0.0    1.0            1.0            1.0           1.0  ...   \n",
       "1         0.0    1.0            1.0            1.0           1.0  ...   \n",
       "2         0.0    1.0            1.0            1.0           1.0  ...   \n",
       "3         0.0    1.0            1.0            1.0           1.0  ...   \n",
       "4         0.0    1.0            1.0            1.0           1.0  ...   \n",
       "\n",
       "  ads_ratio avg_views  posting_frequency_days phone_numbers_ratio  \\\n",
       "0       NaN       NaN                     NaN                 NaN   \n",
       "1       NaN       NaN                     NaN                 NaN   \n",
       "2       NaN       NaN                     NaN                 NaN   \n",
       "3       NaN       NaN                     NaN                 NaN   \n",
       "4       NaN       NaN                     NaN                 NaN   \n",
       "\n",
       "  avg_text_uniqueness     city has_occupation occupation_type_university  \\\n",
       "0                 NaN  Unknown        Unknown                    Unknown   \n",
       "1                 NaN  Unknown        Unknown                    Unknown   \n",
       "2                 NaN  Unknown        Unknown                    Unknown   \n",
       "3                 NaN  Unknown        Unknown                    Unknown   \n",
       "4                 NaN  Unknown        Unknown                    Unknown   \n",
       "\n",
       "  occupation_type_work has_personal_data  \n",
       "0              Unknown           Unknown  \n",
       "1              Unknown           Unknown  \n",
       "2              Unknown           Unknown  \n",
       "3              Unknown           Unknown  \n",
       "4              Unknown           Unknown  \n",
       "\n",
       "[5 rows x 60 columns]"
      ]
     },
     "execution_count": 4,
     "metadata": {},
     "output_type": "execute_result"
    }
   ],
   "source": [
    "df.head()"
   ]
  },
  {
   "cell_type": "code",
   "execution_count": 5,
   "id": "2f6fed1c",
   "metadata": {
    "execution": {
     "iopub.execute_input": "2025-04-03T17:55:25.998965Z",
     "iopub.status.busy": "2025-04-03T17:55:25.998677Z",
     "iopub.status.idle": "2025-04-03T17:55:26.041499Z",
     "shell.execute_reply": "2025-04-03T17:55:26.040287Z"
    },
    "papermill": {
     "duration": 0.052984,
     "end_time": "2025-04-03T17:55:26.043140",
     "exception": false,
     "start_time": "2025-04-03T17:55:25.990156",
     "status": "completed"
    },
    "tags": []
   },
   "outputs": [
    {
     "name": "stdout",
     "output_type": "stream",
     "text": [
      "<class 'pandas.core.frame.DataFrame'>\n",
      "RangeIndex: 5874 entries, 0 to 5873\n",
      "Data columns (total 60 columns):\n",
      " #   Column                      Non-Null Count  Dtype  \n",
      "---  ------                      --------------  -----  \n",
      " 0   has_domain                  5874 non-null   object \n",
      " 1   has_birth_date              5874 non-null   object \n",
      " 2   has_photo                   5874 non-null   object \n",
      " 3   can_post_on_wall            5874 non-null   object \n",
      " 4   can_send_message            5874 non-null   object \n",
      " 5   has_website                 5874 non-null   object \n",
      " 6   gender                      5874 non-null   object \n",
      " 7   has_short_name              5874 non-null   object \n",
      " 8   has_first_name              5874 non-null   object \n",
      " 9   has_last_name               5874 non-null   object \n",
      " 10  access_to_closed_profile    5874 non-null   object \n",
      " 11  is_profile_closed           5874 non-null   object \n",
      " 12  target                      5874 non-null   int64  \n",
      " 13  has_nickname                5874 non-null   object \n",
      " 14  has_maiden_name             5874 non-null   object \n",
      " 15  has_mobile                  5874 non-null   object \n",
      " 16  all_posts_visible           5874 non-null   object \n",
      " 17  audio_available             5874 non-null   object \n",
      " 18  has_interests               5874 non-null   object \n",
      " 19  has_books                   5874 non-null   object \n",
      " 20  has_tv                      5874 non-null   object \n",
      " 21  has_quotes                  5874 non-null   object \n",
      " 22  has_about                   5874 non-null   object \n",
      " 23  has_games                   5874 non-null   object \n",
      " 24  has_movies                  5874 non-null   object \n",
      " 25  has_activities              5874 non-null   object \n",
      " 26  has_music                   5874 non-null   object \n",
      " 27  can_add_as_friend           5874 non-null   object \n",
      " 28  can_invite_to_group         5874 non-null   object \n",
      " 29  subscribers_count           5874 non-null   object \n",
      " 30  is_blacklisted              5874 non-null   object \n",
      " 31  has_career                  5874 non-null   object \n",
      " 32  has_military_service        5874 non-null   object \n",
      " 33  has_hometown                5874 non-null   object \n",
      " 34  marital_status              5874 non-null   object \n",
      " 35  has_universities            5874 non-null   object \n",
      " 36  has_schools                 5874 non-null   object \n",
      " 37  has_relatives               5874 non-null   object \n",
      " 38  is_verified                 5874 non-null   object \n",
      " 39  is_confirmed                5874 non-null   object \n",
      " 40  has_status                  5874 non-null   object \n",
      " 41  posts_count                 1391 non-null   float64\n",
      " 42  avg_likes                   1391 non-null   float64\n",
      " 43  links_ratio                 1391 non-null   float64\n",
      " 44  hashtags_ratio              1391 non-null   float64\n",
      " 45  avg_keywords                1391 non-null   float64\n",
      " 46  avg_text_length             1391 non-null   float64\n",
      " 47  attachments_ratio           1391 non-null   float64\n",
      " 48  avg_comments                1391 non-null   float64\n",
      " 49  reposts_ratio               1391 non-null   float64\n",
      " 50  ads_ratio                   1391 non-null   float64\n",
      " 51  avg_views                   1391 non-null   float64\n",
      " 52  posting_frequency_days      1391 non-null   float64\n",
      " 53  phone_numbers_ratio         1391 non-null   float64\n",
      " 54  avg_text_uniqueness         1391 non-null   float64\n",
      " 55  city                        5874 non-null   object \n",
      " 56  has_occupation              5874 non-null   object \n",
      " 57  occupation_type_university  5874 non-null   object \n",
      " 58  occupation_type_work        5874 non-null   object \n",
      " 59  has_personal_data           5874 non-null   object \n",
      "dtypes: float64(14), int64(1), object(45)\n",
      "memory usage: 2.7+ MB\n"
     ]
    }
   ],
   "source": [
    "df.info()"
   ]
  },
  {
   "cell_type": "code",
   "execution_count": 6,
   "id": "3ad62b64",
   "metadata": {
    "execution": {
     "iopub.execute_input": "2025-04-03T17:55:26.059679Z",
     "iopub.status.busy": "2025-04-03T17:55:26.059371Z",
     "iopub.status.idle": "2025-04-03T17:55:26.105938Z",
     "shell.execute_reply": "2025-04-03T17:55:26.104913Z"
    },
    "papermill": {
     "duration": 0.05641,
     "end_time": "2025-04-03T17:55:26.107395",
     "exception": false,
     "start_time": "2025-04-03T17:55:26.050985",
     "status": "completed"
    },
    "tags": []
   },
   "outputs": [
    {
     "data": {
      "text/html": [
       "<div>\n",
       "<style scoped>\n",
       "    .dataframe tbody tr th:only-of-type {\n",
       "        vertical-align: middle;\n",
       "    }\n",
       "\n",
       "    .dataframe tbody tr th {\n",
       "        vertical-align: top;\n",
       "    }\n",
       "\n",
       "    .dataframe thead th {\n",
       "        text-align: right;\n",
       "    }\n",
       "</style>\n",
       "<table border=\"1\" class=\"dataframe\">\n",
       "  <thead>\n",
       "    <tr style=\"text-align: right;\">\n",
       "      <th></th>\n",
       "      <th>target</th>\n",
       "      <th>posts_count</th>\n",
       "      <th>avg_likes</th>\n",
       "      <th>links_ratio</th>\n",
       "      <th>hashtags_ratio</th>\n",
       "      <th>avg_keywords</th>\n",
       "      <th>avg_text_length</th>\n",
       "      <th>attachments_ratio</th>\n",
       "      <th>avg_comments</th>\n",
       "      <th>reposts_ratio</th>\n",
       "      <th>ads_ratio</th>\n",
       "      <th>avg_views</th>\n",
       "      <th>posting_frequency_days</th>\n",
       "      <th>phone_numbers_ratio</th>\n",
       "      <th>avg_text_uniqueness</th>\n",
       "    </tr>\n",
       "  </thead>\n",
       "  <tbody>\n",
       "    <tr>\n",
       "      <th>count</th>\n",
       "      <td>5874.000000</td>\n",
       "      <td>1391.000000</td>\n",
       "      <td>1391.000000</td>\n",
       "      <td>1391.000000</td>\n",
       "      <td>1391.000000</td>\n",
       "      <td>1391.000000</td>\n",
       "      <td>1391.000000</td>\n",
       "      <td>1391.000000</td>\n",
       "      <td>1391.000000</td>\n",
       "      <td>1391.000000</td>\n",
       "      <td>1391.000000</td>\n",
       "      <td>1391.000000</td>\n",
       "      <td>1391.000000</td>\n",
       "      <td>1391.000000</td>\n",
       "      <td>1391.000000</td>\n",
       "    </tr>\n",
       "    <tr>\n",
       "      <th>mean</th>\n",
       "      <td>0.500000</td>\n",
       "      <td>18.629044</td>\n",
       "      <td>19.552487</td>\n",
       "      <td>0.156463</td>\n",
       "      <td>0.143918</td>\n",
       "      <td>7.730661</td>\n",
       "      <td>544.752035</td>\n",
       "      <td>0.895945</td>\n",
       "      <td>0.610812</td>\n",
       "      <td>0.433638</td>\n",
       "      <td>0.002667</td>\n",
       "      <td>623.834788</td>\n",
       "      <td>66.330065</td>\n",
       "      <td>0.000568</td>\n",
       "      <td>0.668009</td>\n",
       "    </tr>\n",
       "    <tr>\n",
       "      <th>std</th>\n",
       "      <td>0.500043</td>\n",
       "      <td>4.231994</td>\n",
       "      <td>41.954881</td>\n",
       "      <td>0.202730</td>\n",
       "      <td>0.187085</td>\n",
       "      <td>11.278711</td>\n",
       "      <td>746.728130</td>\n",
       "      <td>0.170084</td>\n",
       "      <td>2.461709</td>\n",
       "      <td>0.397830</td>\n",
       "      <td>0.033136</td>\n",
       "      <td>1617.635460</td>\n",
       "      <td>154.970296</td>\n",
       "      <td>0.009545</td>\n",
       "      <td>0.229815</td>\n",
       "    </tr>\n",
       "    <tr>\n",
       "      <th>min</th>\n",
       "      <td>0.000000</td>\n",
       "      <td>1.000000</td>\n",
       "      <td>0.000000</td>\n",
       "      <td>0.000000</td>\n",
       "      <td>0.000000</td>\n",
       "      <td>0.000000</td>\n",
       "      <td>0.000000</td>\n",
       "      <td>0.000000</td>\n",
       "      <td>0.000000</td>\n",
       "      <td>0.000000</td>\n",
       "      <td>0.000000</td>\n",
       "      <td>0.000000</td>\n",
       "      <td>0.000000</td>\n",
       "      <td>0.000000</td>\n",
       "      <td>0.000000</td>\n",
       "    </tr>\n",
       "    <tr>\n",
       "      <th>25%</th>\n",
       "      <td>0.000000</td>\n",
       "      <td>20.000000</td>\n",
       "      <td>0.400000</td>\n",
       "      <td>0.000000</td>\n",
       "      <td>0.000000</td>\n",
       "      <td>1.100000</td>\n",
       "      <td>86.600000</td>\n",
       "      <td>0.850000</td>\n",
       "      <td>0.000000</td>\n",
       "      <td>0.050000</td>\n",
       "      <td>0.000000</td>\n",
       "      <td>9.125000</td>\n",
       "      <td>1.980000</td>\n",
       "      <td>0.000000</td>\n",
       "      <td>0.580000</td>\n",
       "    </tr>\n",
       "    <tr>\n",
       "      <th>50%</th>\n",
       "      <td>0.500000</td>\n",
       "      <td>20.000000</td>\n",
       "      <td>7.600000</td>\n",
       "      <td>0.100000</td>\n",
       "      <td>0.050000</td>\n",
       "      <td>3.400000</td>\n",
       "      <td>267.800000</td>\n",
       "      <td>0.950000</td>\n",
       "      <td>0.000000</td>\n",
       "      <td>0.300000</td>\n",
       "      <td>0.000000</td>\n",
       "      <td>268.950000</td>\n",
       "      <td>30.950000</td>\n",
       "      <td>0.000000</td>\n",
       "      <td>0.710000</td>\n",
       "    </tr>\n",
       "    <tr>\n",
       "      <th>75%</th>\n",
       "      <td>1.000000</td>\n",
       "      <td>20.000000</td>\n",
       "      <td>26.075000</td>\n",
       "      <td>0.200000</td>\n",
       "      <td>0.200000</td>\n",
       "      <td>7.850000</td>\n",
       "      <td>616.850000</td>\n",
       "      <td>1.000000</td>\n",
       "      <td>0.200000</td>\n",
       "      <td>0.900000</td>\n",
       "      <td>0.000000</td>\n",
       "      <td>746.050000</td>\n",
       "      <td>89.480000</td>\n",
       "      <td>0.000000</td>\n",
       "      <td>0.830000</td>\n",
       "    </tr>\n",
       "    <tr>\n",
       "      <th>max</th>\n",
       "      <td>1.000000</td>\n",
       "      <td>20.000000</td>\n",
       "      <td>894.900000</td>\n",
       "      <td>1.000000</td>\n",
       "      <td>1.000000</td>\n",
       "      <td>61.600000</td>\n",
       "      <td>5841.250000</td>\n",
       "      <td>1.000000</td>\n",
       "      <td>64.050000</td>\n",
       "      <td>1.000000</td>\n",
       "      <td>0.950000</td>\n",
       "      <td>41415.700000</td>\n",
       "      <td>2866.590000</td>\n",
       "      <td>0.300000</td>\n",
       "      <td>1.000000</td>\n",
       "    </tr>\n",
       "  </tbody>\n",
       "</table>\n",
       "</div>"
      ],
      "text/plain": [
       "            target  posts_count    avg_likes  links_ratio  hashtags_ratio  \\\n",
       "count  5874.000000  1391.000000  1391.000000  1391.000000     1391.000000   \n",
       "mean      0.500000    18.629044    19.552487     0.156463        0.143918   \n",
       "std       0.500043     4.231994    41.954881     0.202730        0.187085   \n",
       "min       0.000000     1.000000     0.000000     0.000000        0.000000   \n",
       "25%       0.000000    20.000000     0.400000     0.000000        0.000000   \n",
       "50%       0.500000    20.000000     7.600000     0.100000        0.050000   \n",
       "75%       1.000000    20.000000    26.075000     0.200000        0.200000   \n",
       "max       1.000000    20.000000   894.900000     1.000000        1.000000   \n",
       "\n",
       "       avg_keywords  avg_text_length  attachments_ratio  avg_comments  \\\n",
       "count   1391.000000      1391.000000        1391.000000   1391.000000   \n",
       "mean       7.730661       544.752035           0.895945      0.610812   \n",
       "std       11.278711       746.728130           0.170084      2.461709   \n",
       "min        0.000000         0.000000           0.000000      0.000000   \n",
       "25%        1.100000        86.600000           0.850000      0.000000   \n",
       "50%        3.400000       267.800000           0.950000      0.000000   \n",
       "75%        7.850000       616.850000           1.000000      0.200000   \n",
       "max       61.600000      5841.250000           1.000000     64.050000   \n",
       "\n",
       "       reposts_ratio    ads_ratio     avg_views  posting_frequency_days  \\\n",
       "count    1391.000000  1391.000000   1391.000000             1391.000000   \n",
       "mean        0.433638     0.002667    623.834788               66.330065   \n",
       "std         0.397830     0.033136   1617.635460              154.970296   \n",
       "min         0.000000     0.000000      0.000000                0.000000   \n",
       "25%         0.050000     0.000000      9.125000                1.980000   \n",
       "50%         0.300000     0.000000    268.950000               30.950000   \n",
       "75%         0.900000     0.000000    746.050000               89.480000   \n",
       "max         1.000000     0.950000  41415.700000             2866.590000   \n",
       "\n",
       "       phone_numbers_ratio  avg_text_uniqueness  \n",
       "count          1391.000000          1391.000000  \n",
       "mean              0.000568             0.668009  \n",
       "std               0.009545             0.229815  \n",
       "min               0.000000             0.000000  \n",
       "25%               0.000000             0.580000  \n",
       "50%               0.000000             0.710000  \n",
       "75%               0.000000             0.830000  \n",
       "max               0.300000             1.000000  "
      ]
     },
     "execution_count": 6,
     "metadata": {},
     "output_type": "execute_result"
    }
   ],
   "source": [
    "df.describe()"
   ]
  },
  {
   "cell_type": "code",
   "execution_count": 7,
   "id": "2706d035",
   "metadata": {
    "execution": {
     "iopub.execute_input": "2025-04-03T17:55:26.124854Z",
     "iopub.status.busy": "2025-04-03T17:55:26.124563Z",
     "iopub.status.idle": "2025-04-03T17:55:26.144569Z",
     "shell.execute_reply": "2025-04-03T17:55:26.143678Z"
    },
    "papermill": {
     "duration": 0.030389,
     "end_time": "2025-04-03T17:55:26.146137",
     "exception": false,
     "start_time": "2025-04-03T17:55:26.115748",
     "status": "completed"
    },
    "tags": []
   },
   "outputs": [
    {
     "data": {
      "text/plain": [
       "has_domain              0\n",
       "has_activities          0\n",
       "has_music               0\n",
       "can_add_as_friend       0\n",
       "can_invite_to_group     0\n",
       "occupation_type_work    0\n",
       "is_blacklisted          0\n",
       "has_career              0\n",
       "has_military_service    0\n",
       "has_hometown            0\n",
       "dtype: int64"
      ]
     },
     "execution_count": 7,
     "metadata": {},
     "output_type": "execute_result"
    }
   ],
   "source": [
    "df.isnull().sum().sort_values(ascending=True).head(10)"
   ]
  },
  {
   "cell_type": "code",
   "execution_count": 8,
   "id": "bfc3de7c",
   "metadata": {
    "execution": {
     "iopub.execute_input": "2025-04-03T17:55:26.163867Z",
     "iopub.status.busy": "2025-04-03T17:55:26.163578Z",
     "iopub.status.idle": "2025-04-03T17:55:26.388154Z",
     "shell.execute_reply": "2025-04-03T17:55:26.387173Z"
    },
    "papermill": {
     "duration": 0.235178,
     "end_time": "2025-04-03T17:55:26.389872",
     "exception": false,
     "start_time": "2025-04-03T17:55:26.154694",
     "status": "completed"
    },
    "tags": []
   },
   "outputs": [
    {
     "data": {
      "image/png": "[encoded data removed]",
      "text/plain": [
       "<Figure size 640x480 with 1 Axes>"
      ]
     },
     "metadata": {},
     "output_type": "display_data"
    },
    {
     "data": {
      "text/plain": [
       "target\n",
       "1    50.0\n",
       "0    50.0\n",
       "Name: proportion, dtype: float64"
      ]
     },
     "execution_count": 8,
     "metadata": {},
     "output_type": "execute_result"
    }
   ],
   "source": [
    "# Distribution of target variable (0 = human, 1 = bot)\n",
    "sns.countplot(x='target', data=df)\n",
    "plt.title('Target Class Distribution')\n",
    "plt.xlabel('Class (0: Human, 1: Bot)')\n",
    "plt.ylabel('Count')\n",
    "plt.show()\n",
    "\n",
    "# Display counts and percentages\n",
    "df['target'].value_counts(normalize=True) * 100"
   ]
  },
  {
   "cell_type": "code",
   "execution_count": 9,
   "id": "6bbe9bc1",
   "metadata": {
    "execution": {
     "iopub.execute_input": "2025-04-03T17:55:26.408757Z",
     "iopub.status.busy": "2025-04-03T17:55:26.408448Z",
     "iopub.status.idle": "2025-04-03T17:55:26.416773Z",
     "shell.execute_reply": "2025-04-03T17:55:26.415848Z"
    },
    "papermill": {
     "duration": 0.019344,
     "end_time": "2025-04-03T17:55:26.418209",
     "exception": false,
     "start_time": "2025-04-03T17:55:26.398865",
     "status": "completed"
    },
    "tags": []
   },
   "outputs": [
    {
     "name": "stdout",
     "output_type": "stream",
     "text": [
      "Number of numerical features: 14\n",
      "Number of categorical features: 45\n"
     ]
    }
   ],
   "source": [
    "# Separate numeric and categorical columns\n",
    "numerical_cols = df.select_dtypes(include=['float64', 'int64']).columns.tolist()\n",
    "categorical_cols = df.select_dtypes(include=['object']).columns.tolist()\n",
    "\n",
    "# Remove the target column from numerical_cols\n",
    "numerical_cols.remove('target')\n",
    "\n",
    "print(\"Number of numerical features:\", len(numerical_cols))\n",
    "print(\"Number of categorical features:\", len(categorical_cols))"
   ]
  },
  {
   "cell_type": "markdown",
   "id": "aca3e200",
   "metadata": {
    "papermill": {
     "duration": 0.008368,
     "end_time": "2025-04-03T17:55:26.435572",
     "exception": false,
     "start_time": "2025-04-03T17:55:26.427204",
     "status": "completed"
    },
    "tags": []
   },
   "source": [
    "- Impute numerical NaNs with the median\n",
    "- Confirm categorical 'unknown' values are preserved"
   ]
  },
  {
   "cell_type": "code",
   "execution_count": 10,
   "id": "29f82f76",
   "metadata": {
    "execution": {
     "iopub.execute_input": "2025-04-03T17:55:26.453796Z",
     "iopub.status.busy": "2025-04-03T17:55:26.453480Z",
     "iopub.status.idle": "2025-04-03T17:55:26.502640Z",
     "shell.execute_reply": "2025-04-03T17:55:26.501318Z"
    },
    "papermill": {
     "duration": 0.060789,
     "end_time": "2025-04-03T17:55:26.504861",
     "exception": false,
     "start_time": "2025-04-03T17:55:26.444072",
     "status": "completed"
    },
    "tags": []
   },
   "outputs": [
    {
     "name": "stdout",
     "output_type": "stream",
     "text": [
      "Any remaining NaNs: 0\n"
     ]
    }
   ],
   "source": [
    "# Fill numerical NaNs with median\n",
    "df[numerical_cols] = df[numerical_cols].fillna(df[numerical_cols].median())\n",
    "\n",
    "# Confirm that categorical missing values are 'unknown'\n",
    "for col in categorical_cols:\n",
    "    if df[col].isnull().sum() > 0:\n",
    "        print(f\"{col} has missing values (not 'unknown')\")\n",
    "\n",
    "# Sanity check\n",
    "print(\"Any remaining NaNs:\", df.isnull().sum().sum())"
   ]
  },
  {
   "cell_type": "markdown",
   "id": "ccf6b326",
   "metadata": {
    "papermill": {
     "duration": 0.008504,
     "end_time": "2025-04-03T17:55:26.522449",
     "exception": false,
     "start_time": "2025-04-03T17:55:26.513945",
     "status": "completed"
    },
    "tags": []
   },
   "source": [
    "## Encode categorical features"
   ]
  },
  {
   "cell_type": "code",
   "execution_count": 11,
   "id": "f667fc6c",
   "metadata": {
    "execution": {
     "iopub.execute_input": "2025-04-03T17:55:26.540957Z",
     "iopub.status.busy": "2025-04-03T17:55:26.540648Z",
     "iopub.status.idle": "2025-04-03T17:55:26.628021Z",
     "shell.execute_reply": "2025-04-03T17:55:26.627097Z"
    },
    "papermill": {
     "duration": 0.098248,
     "end_time": "2025-04-03T17:55:26.629491",
     "exception": false,
     "start_time": "2025-04-03T17:55:26.531243",
     "status": "completed"
    },
    "tags": []
   },
   "outputs": [
    {
     "data": {
      "text/html": [
       "<div>\n",
       "<style scoped>\n",
       "    .dataframe tbody tr th:only-of-type {\n",
       "        vertical-align: middle;\n",
       "    }\n",
       "\n",
       "    .dataframe tbody tr th {\n",
       "        vertical-align: top;\n",
       "    }\n",
       "\n",
       "    .dataframe thead th {\n",
       "        text-align: right;\n",
       "    }\n",
       "</style>\n",
       "<table border=\"1\" class=\"dataframe\">\n",
       "  <thead>\n",
       "    <tr style=\"text-align: right;\">\n",
       "      <th></th>\n",
       "      <th>has_domain</th>\n",
       "      <th>has_birth_date</th>\n",
       "      <th>has_photo</th>\n",
       "      <th>can_post_on_wall</th>\n",
       "      <th>can_send_message</th>\n",
       "      <th>has_website</th>\n",
       "      <th>gender</th>\n",
       "      <th>has_short_name</th>\n",
       "      <th>has_first_name</th>\n",
       "      <th>has_last_name</th>\n",
       "      <th>...</th>\n",
       "      <th>has_schools</th>\n",
       "      <th>has_relatives</th>\n",
       "      <th>is_verified</th>\n",
       "      <th>is_confirmed</th>\n",
       "      <th>has_status</th>\n",
       "      <th>city</th>\n",
       "      <th>has_occupation</th>\n",
       "      <th>occupation_type_university</th>\n",
       "      <th>occupation_type_work</th>\n",
       "      <th>has_personal_data</th>\n",
       "    </tr>\n",
       "  </thead>\n",
       "  <tbody>\n",
       "    <tr>\n",
       "      <th>0</th>\n",
       "      <td>0</td>\n",
       "      <td>0</td>\n",
       "      <td>0</td>\n",
       "      <td>0</td>\n",
       "      <td>0</td>\n",
       "      <td>0</td>\n",
       "      <td>1</td>\n",
       "      <td>0</td>\n",
       "      <td>0</td>\n",
       "      <td>1</td>\n",
       "      <td>...</td>\n",
       "      <td>2</td>\n",
       "      <td>2</td>\n",
       "      <td>2</td>\n",
       "      <td>2</td>\n",
       "      <td>2</td>\n",
       "      <td>319</td>\n",
       "      <td>1</td>\n",
       "      <td>2</td>\n",
       "      <td>2</td>\n",
       "      <td>1</td>\n",
       "    </tr>\n",
       "    <tr>\n",
       "      <th>1</th>\n",
       "      <td>0</td>\n",
       "      <td>0</td>\n",
       "      <td>0</td>\n",
       "      <td>0</td>\n",
       "      <td>0</td>\n",
       "      <td>0</td>\n",
       "      <td>1</td>\n",
       "      <td>0</td>\n",
       "      <td>0</td>\n",
       "      <td>1</td>\n",
       "      <td>...</td>\n",
       "      <td>2</td>\n",
       "      <td>2</td>\n",
       "      <td>2</td>\n",
       "      <td>2</td>\n",
       "      <td>2</td>\n",
       "      <td>319</td>\n",
       "      <td>1</td>\n",
       "      <td>2</td>\n",
       "      <td>2</td>\n",
       "      <td>1</td>\n",
       "    </tr>\n",
       "    <tr>\n",
       "      <th>2</th>\n",
       "      <td>0</td>\n",
       "      <td>0</td>\n",
       "      <td>0</td>\n",
       "      <td>0</td>\n",
       "      <td>0</td>\n",
       "      <td>0</td>\n",
       "      <td>1</td>\n",
       "      <td>0</td>\n",
       "      <td>0</td>\n",
       "      <td>1</td>\n",
       "      <td>...</td>\n",
       "      <td>2</td>\n",
       "      <td>2</td>\n",
       "      <td>2</td>\n",
       "      <td>2</td>\n",
       "      <td>2</td>\n",
       "      <td>319</td>\n",
       "      <td>1</td>\n",
       "      <td>2</td>\n",
       "      <td>2</td>\n",
       "      <td>1</td>\n",
       "    </tr>\n",
       "    <tr>\n",
       "      <th>3</th>\n",
       "      <td>0</td>\n",
       "      <td>0</td>\n",
       "      <td>0</td>\n",
       "      <td>0</td>\n",
       "      <td>0</td>\n",
       "      <td>0</td>\n",
       "      <td>1</td>\n",
       "      <td>0</td>\n",
       "      <td>0</td>\n",
       "      <td>1</td>\n",
       "      <td>...</td>\n",
       "      <td>2</td>\n",
       "      <td>2</td>\n",
       "      <td>2</td>\n",
       "      <td>2</td>\n",
       "      <td>2</td>\n",
       "      <td>319</td>\n",
       "      <td>1</td>\n",
       "      <td>2</td>\n",
       "      <td>2</td>\n",
       "      <td>1</td>\n",
       "    </tr>\n",
       "    <tr>\n",
       "      <th>4</th>\n",
       "      <td>0</td>\n",
       "      <td>0</td>\n",
       "      <td>0</td>\n",
       "      <td>0</td>\n",
       "      <td>0</td>\n",
       "      <td>0</td>\n",
       "      <td>1</td>\n",
       "      <td>0</td>\n",
       "      <td>0</td>\n",
       "      <td>1</td>\n",
       "      <td>...</td>\n",
       "      <td>2</td>\n",
       "      <td>2</td>\n",
       "      <td>2</td>\n",
       "      <td>2</td>\n",
       "      <td>2</td>\n",
       "      <td>319</td>\n",
       "      <td>1</td>\n",
       "      <td>2</td>\n",
       "      <td>2</td>\n",
       "      <td>1</td>\n",
       "    </tr>\n",
       "  </tbody>\n",
       "</table>\n",
       "<p>5 rows × 45 columns</p>\n",
       "</div>"
      ],
      "text/plain": [
       "   has_domain  has_birth_date  has_photo  can_post_on_wall  can_send_message  \\\n",
       "0           0               0          0                 0                 0   \n",
       "1           0               0          0                 0                 0   \n",
       "2           0               0          0                 0                 0   \n",
       "3           0               0          0                 0                 0   \n",
       "4           0               0          0                 0                 0   \n",
       "\n",
       "   has_website  gender  has_short_name  has_first_name  has_last_name  ...  \\\n",
       "0            0       1               0               0              1  ...   \n",
       "1            0       1               0               0              1  ...   \n",
       "2            0       1               0               0              1  ...   \n",
       "3            0       1               0               0              1  ...   \n",
       "4            0       1               0               0              1  ...   \n",
       "\n",
       "   has_schools  has_relatives  is_verified  is_confirmed  has_status  city  \\\n",
       "0            2              2            2             2           2   319   \n",
       "1            2              2            2             2           2   319   \n",
       "2            2              2            2             2           2   319   \n",
       "3            2              2            2             2           2   319   \n",
       "4            2              2            2             2           2   319   \n",
       "\n",
       "   has_occupation  occupation_type_university  occupation_type_work  \\\n",
       "0               1                           2                     2   \n",
       "1               1                           2                     2   \n",
       "2               1                           2                     2   \n",
       "3               1                           2                     2   \n",
       "4               1                           2                     2   \n",
       "\n",
       "   has_personal_data  \n",
       "0                  1  \n",
       "1                  1  \n",
       "2                  1  \n",
       "3                  1  \n",
       "4                  1  \n",
       "\n",
       "[5 rows x 45 columns]"
      ]
     },
     "execution_count": 11,
     "metadata": {},
     "output_type": "execute_result"
    }
   ],
   "source": [
    "# Initialize label encoder\n",
    "le = LabelEncoder()\n",
    "\n",
    "# Apply Label Encoding to all categorical columns\n",
    "for col in categorical_cols:\n",
    "    df[col] = le.fit_transform(df[col])\n",
    "\n",
    "# Final shape check\n",
    "df[categorical_cols].head()"
   ]
  },
  {
   "cell_type": "markdown",
   "id": "69a2819b",
   "metadata": {
    "papermill": {
     "duration": 0.008664,
     "end_time": "2025-04-03T17:55:26.647506",
     "exception": false,
     "start_time": "2025-04-03T17:55:26.638842",
     "status": "completed"
    },
    "tags": []
   },
   "source": [
    "## Train-test split"
   ]
  },
  {
   "cell_type": "code",
   "execution_count": 12,
   "id": "c3d35a83",
   "metadata": {
    "execution": {
     "iopub.execute_input": "2025-04-03T17:55:26.666490Z",
     "iopub.status.busy": "2025-04-03T17:55:26.666120Z",
     "iopub.status.idle": "2025-04-03T17:55:26.682991Z",
     "shell.execute_reply": "2025-04-03T17:55:26.682032Z"
    },
    "papermill": {
     "duration": 0.028101,
     "end_time": "2025-04-03T17:55:26.684557",
     "exception": false,
     "start_time": "2025-04-03T17:55:26.656456",
     "status": "completed"
    },
    "tags": []
   },
   "outputs": [
    {
     "name": "stdout",
     "output_type": "stream",
     "text": [
      "Training set: (4699, 59)\n",
      "Test set: (1175, 59)\n"
     ]
    }
   ],
   "source": [
    "# Separate features and target\n",
    "X = df.drop('target', axis=1)\n",
    "y = df['target']\n",
    "\n",
    "# Stratified train-test split\n",
    "X_train, X_test, y_train, y_test = train_test_split(\n",
    "    X, y, test_size=0.2, random_state=42, stratify=y\n",
    ")\n",
    "\n",
    "# Check shape\n",
    "print(\"Training set:\", X_train.shape)\n",
    "print(\"Test set:\", X_test.shape)"
   ]
  },
  {
   "cell_type": "markdown",
   "id": "70f7e6e1",
   "metadata": {
    "papermill": {
     "duration": 0.008719,
     "end_time": "2025-04-03T17:55:26.702500",
     "exception": false,
     "start_time": "2025-04-03T17:55:26.693781",
     "status": "completed"
    },
    "tags": []
   },
   "source": [
    "# Models"
   ]
  },
  {
   "cell_type": "markdown",
   "id": "e387eeb2",
   "metadata": {
    "papermill": {
     "duration": 0.008607,
     "end_time": "2025-04-03T17:55:26.720064",
     "exception": false,
     "start_time": "2025-04-03T17:55:26.711457",
     "status": "completed"
    },
    "tags": []
   },
   "source": [
    "## Training baseline Random Forest model"
   ]
  },
  {
   "cell_type": "code",
   "execution_count": 13,
   "id": "88d95729",
   "metadata": {
    "execution": {
     "iopub.execute_input": "2025-04-03T17:55:26.739008Z",
     "iopub.status.busy": "2025-04-03T17:55:26.738699Z",
     "iopub.status.idle": "2025-04-03T17:55:27.202694Z",
     "shell.execute_reply": "2025-04-03T17:55:27.201608Z"
    },
    "papermill": {
     "duration": 0.4754,
     "end_time": "2025-04-03T17:55:27.204405",
     "exception": false,
     "start_time": "2025-04-03T17:55:26.729005",
     "status": "completed"
    },
    "tags": []
   },
   "outputs": [
    {
     "name": "stdout",
     "output_type": "stream",
     "text": [
      "Classification Report:\n",
      "               precision    recall  f1-score   support\n",
      "\n",
      "           0       0.96      0.98      0.97       588\n",
      "           1       0.98      0.96      0.97       587\n",
      "\n",
      "    accuracy                           0.97      1175\n",
      "   macro avg       0.97      0.97      0.97      1175\n",
      "weighted avg       0.97      0.97      0.97      1175\n",
      "\n",
      "Confusion Matrix:\n",
      " [[574  14]\n",
      " [ 25 562]]\n"
     ]
    }
   ],
   "source": [
    "# Initialize and train model\n",
    "rf = RandomForestClassifier(random_state=42)\n",
    "rf.fit(X_train, y_train)\n",
    "\n",
    "# Predict on test set\n",
    "y_pred = rf.predict(X_test)\n",
    "\n",
    "# Evaluate\n",
    "print(\"Classification Report:\\n\", classification_report(y_test, y_pred))\n",
    "print(\"Confusion Matrix:\\n\", confusion_matrix(y_test, y_pred))"
   ]
  },
  {
   "cell_type": "markdown",
   "id": "e34c9b43",
   "metadata": {
    "papermill": {
     "duration": 0.008831,
     "end_time": "2025-04-03T17:55:27.222844",
     "exception": false,
     "start_time": "2025-04-03T17:55:27.214013",
     "status": "completed"
    },
    "tags": []
   },
   "source": [
    "- Balanced precision and recall for both classes.\n",
    "- Misclassifications are minimal: only 39 out of 1175.\n",
    "- Confusion matrix looks healthy (no sign of class bias)"
   ]
  },
  {
   "cell_type": "markdown",
   "id": "0961e5b8",
   "metadata": {
    "papermill": {
     "duration": 0.008792,
     "end_time": "2025-04-03T17:55:27.240709",
     "exception": false,
     "start_time": "2025-04-03T17:55:27.231917",
     "status": "completed"
    },
    "tags": []
   },
   "source": [
    "## Feature Importance Visualization"
   ]
  },
  {
   "cell_type": "code",
   "execution_count": 14,
   "id": "2a05090f",
   "metadata": {
    "execution": {
     "iopub.execute_input": "2025-04-03T17:55:27.260293Z",
     "iopub.status.busy": "2025-04-03T17:55:27.259958Z",
     "iopub.status.idle": "2025-04-03T17:55:27.635198Z",
     "shell.execute_reply": "2025-04-03T17:55:27.634183Z"
    },
    "papermill": {
     "duration": 0.387061,
     "end_time": "2025-04-03T17:55:27.637162",
     "exception": false,
     "start_time": "2025-04-03T17:55:27.250101",
     "status": "completed"
    },
    "tags": []
   },
   "outputs": [
    {
     "data": {
      "image/png": "[encoded data removed]",
      "text/plain": [
       "<Figure size 1000x600 with 1 Axes>"
      ]
     },
     "metadata": {},
     "output_type": "display_data"
    }
   ],
   "source": [
    "# Get feature importances\n",
    "importances = rf.feature_importances_\n",
    "feature_names = X.columns\n",
    "\n",
    "# Create DataFrame\n",
    "feat_imp_df = pd.DataFrame({\n",
    "    'feature': feature_names,\n",
    "    'importance': importances\n",
    "}).sort_values(by='importance', ascending=False)\n",
    "\n",
    "# Plot top 20 features\n",
    "plt.figure(figsize=(10, 6))\n",
    "sns.barplot(x='importance', y='feature', data=feat_imp_df.head(20))\n",
    "plt.title('Top 20 Feature Importances - Random Forest')\n",
    "plt.tight_layout()\n",
    "plt.show()"
   ]
  },
  {
   "cell_type": "markdown",
   "id": "07672d0a",
   "metadata": {
    "papermill": {
     "duration": 0.010277,
     "end_time": "2025-04-03T17:55:27.658447",
     "exception": false,
     "start_time": "2025-04-03T17:55:27.648170",
     "status": "completed"
    },
    "tags": []
   },
   "source": [
    "## Train XGBoost model"
   ]
  },
  {
   "cell_type": "code",
   "execution_count": 15,
   "id": "4b0b2d28",
   "metadata": {
    "execution": {
     "iopub.execute_input": "2025-04-03T17:55:27.680233Z",
     "iopub.status.busy": "2025-04-03T17:55:27.679918Z",
     "iopub.status.idle": "2025-04-03T17:55:27.899304Z",
     "shell.execute_reply": "2025-04-03T17:55:27.898096Z"
    },
    "papermill": {
     "duration": 0.232043,
     "end_time": "2025-04-03T17:55:27.900831",
     "exception": false,
     "start_time": "2025-04-03T17:55:27.668788",
     "status": "completed"
    },
    "tags": []
   },
   "outputs": [
    {
     "name": "stdout",
     "output_type": "stream",
     "text": [
      "Classification Report:\n",
      "               precision    recall  f1-score   support\n",
      "\n",
      "           0       0.96      0.98      0.97       588\n",
      "           1       0.98      0.96      0.97       587\n",
      "\n",
      "    accuracy                           0.97      1175\n",
      "   macro avg       0.97      0.97      0.97      1175\n",
      "weighted avg       0.97      0.97      0.97      1175\n",
      "\n",
      "Confusion Matrix:\n",
      " [[575  13]\n",
      " [ 23 564]]\n"
     ]
    }
   ],
   "source": [
    "# Initialize XGBoost model\n",
    "xgb = XGBClassifier(use_label_encoder=False, eval_metric='logloss', random_state=42)\n",
    "\n",
    "# Train the model\n",
    "xgb.fit(X_train, y_train)\n",
    "\n",
    "# Predict and evaluate\n",
    "y_pred_xgb = xgb.predict(X_test)\n",
    "\n",
    "# Results\n",
    "print(\"Classification Report:\\n\", classification_report(y_test, y_pred_xgb))\n",
    "print(\"Confusion Matrix:\\n\", confusion_matrix(y_test, y_pred_xgb))"
   ]
  },
  {
   "cell_type": "code",
   "execution_count": 16,
   "id": "c4cfd967",
   "metadata": {
    "execution": {
     "iopub.execute_input": "2025-04-03T17:55:27.922984Z",
     "iopub.status.busy": "2025-04-03T17:55:27.922701Z",
     "iopub.status.idle": "2025-04-03T17:55:28.039706Z",
     "shell.execute_reply": "2025-04-03T17:55:28.038850Z"
    },
    "papermill": {
     "duration": 0.130246,
     "end_time": "2025-04-03T17:55:28.041853",
     "exception": false,
     "start_time": "2025-04-03T17:55:27.911607",
     "status": "completed"
    },
    "tags": []
   },
   "outputs": [],
   "source": [
    "# Create TreeExplainer for XGBoost\n",
    "explainer = shap.TreeExplainer(xgb)\n",
    "\n",
    "# Sample a subset of data for SHAP\n",
    "X_sample = X_test.sample(200, random_state=42)\n",
    "\n",
    "# Compute SHAP values\n",
    "shap_values = explainer.shap_values(X_sample)"
   ]
  },
  {
   "cell_type": "code",
   "execution_count": 17,
   "id": "2dedbb64",
   "metadata": {
    "execution": {
     "iopub.execute_input": "2025-04-03T17:55:28.064095Z",
     "iopub.status.busy": "2025-04-03T17:55:28.063775Z",
     "iopub.status.idle": "2025-04-03T17:55:28.351915Z",
     "shell.execute_reply": "2025-04-03T17:55:28.350690Z"
    },
    "papermill": {
     "duration": 0.30087,
     "end_time": "2025-04-03T17:55:28.353621",
     "exception": false,
     "start_time": "2025-04-03T17:55:28.052751",
     "status": "completed"
    },
    "tags": []
   },
   "outputs": [
    {
     "data": {
      "image/png": "[encoded data removed]",
      "text/plain": [
       "<Figure size 800x950 with 1 Axes>"
      ]
     },
     "metadata": {},
     "output_type": "display_data"
    }
   ],
   "source": [
    "# Summary plot of SHAP values\n",
    "shap.summary_plot(shap_values, X_sample, plot_type=\"bar\")"
   ]
  },
  {
   "cell_type": "markdown",
   "id": "cade2740",
   "metadata": {
    "papermill": {
     "duration": 0.011667,
     "end_time": "2025-04-03T17:55:28.377846",
     "exception": false,
     "start_time": "2025-04-03T17:55:28.366179",
     "status": "completed"
    },
    "tags": []
   },
   "source": [
    "- **has_status** is by far the most important feature — bots likely don't set statuses as often.\n",
    "- **city** is also strong — real users have geolocation more consistently.\n",
    "- **has_occupation**, **has_website**, **gender** — all signs of profile richness.\n",
    "- **Activity-based features** like avg_views, posting_frequency_days, and attachments_ratio have smaller but consistent impact.\n",
    "- **Identity > Behavior** — profile completeness is a stronger bot/human signal than engagement."
   ]
  },
  {
   "cell_type": "markdown",
   "id": "41e6d83a",
   "metadata": {
    "papermill": {
     "duration": 0.011588,
     "end_time": "2025-04-03T17:55:28.401218",
     "exception": false,
     "start_time": "2025-04-03T17:55:28.389630",
     "status": "completed"
    },
    "tags": []
   },
   "source": [
    "## Tuned XGBoost Model\n",
    "### Hyperparameter tuning for XGBoost"
   ]
  },
  {
   "cell_type": "code",
   "execution_count": 18,
   "id": "e8926940",
   "metadata": {
    "execution": {
     "iopub.execute_input": "2025-04-03T17:55:28.426186Z",
     "iopub.status.busy": "2025-04-03T17:55:28.425866Z",
     "iopub.status.idle": "2025-04-03T17:55:43.557253Z",
     "shell.execute_reply": "2025-04-03T17:55:43.555906Z"
    },
    "papermill": {
     "duration": 15.146068,
     "end_time": "2025-04-03T17:55:43.559117",
     "exception": false,
     "start_time": "2025-04-03T17:55:28.413049",
     "status": "completed"
    },
    "tags": []
   },
   "outputs": [
    {
     "name": "stdout",
     "output_type": "stream",
     "text": [
      "Fitting 3 folds for each of 20 candidates, totalling 60 fits\n"
     ]
    }
   ],
   "source": [
    "param_grid = {\n",
    "    'n_estimators': [100, 300, 500],\n",
    "    'max_depth': [3, 5, 7, 9],\n",
    "    'learning_rate': [0.01, 0.05, 0.1],\n",
    "    'subsample': [0.7, 0.8, 1.0],\n",
    "    'colsample_bytree': [0.7, 0.8, 1.0],\n",
    "}\n",
    "\n",
    "xgb_clf = XGBClassifier(use_label_encoder=False, eval_metric='logloss', random_state=42)\n",
    "\n",
    "search = RandomizedSearchCV(\n",
    "    estimator=xgb_clf,\n",
    "    param_distributions=param_grid,\n",
    "    scoring='f1',\n",
    "    cv=3,\n",
    "    verbose=1,\n",
    "    n_iter=20,\n",
    "    n_jobs=-1\n",
    ")\n",
    "\n",
    "search.fit(X_train, y_train)\n",
    "best_model = search.best_estimator_"
   ]
  },
  {
   "cell_type": "code",
   "execution_count": 19,
   "id": "b07c1d81",
   "metadata": {
    "execution": {
     "iopub.execute_input": "2025-04-03T17:55:43.585329Z",
     "iopub.status.busy": "2025-04-03T17:55:43.584932Z",
     "iopub.status.idle": "2025-04-03T17:55:43.611601Z",
     "shell.execute_reply": "2025-04-03T17:55:43.610604Z"
    },
    "papermill": {
     "duration": 0.041272,
     "end_time": "2025-04-03T17:55:43.613168",
     "exception": false,
     "start_time": "2025-04-03T17:55:43.571896",
     "status": "completed"
    },
    "tags": []
   },
   "outputs": [
    {
     "name": "stdout",
     "output_type": "stream",
     "text": [
      "Tuned XGBoost Classification Report:\n",
      "               precision    recall  f1-score   support\n",
      "\n",
      "           0       0.96      0.98      0.97       588\n",
      "           1       0.98      0.96      0.97       587\n",
      "\n",
      "    accuracy                           0.97      1175\n",
      "   macro avg       0.97      0.97      0.97      1175\n",
      "weighted avg       0.97      0.97      0.97      1175\n",
      "\n",
      "Confusion Matrix:\n",
      " [[576  12]\n",
      " [ 24 563]]\n"
     ]
    }
   ],
   "source": [
    "# Predict with best model\n",
    "y_pred_best = best_model.predict(X_test)\n",
    "\n",
    "# Evaluation\n",
    "print(\"Tuned XGBoost Classification Report:\\n\", classification_report(y_test, y_pred_best))\n",
    "print(\"Confusion Matrix:\\n\", confusion_matrix(y_test, y_pred_best))"
   ]
  },
  {
   "cell_type": "markdown",
   "id": "c2de0daf",
   "metadata": {
    "papermill": {
     "duration": 0.011849,
     "end_time": "2025-04-03T17:55:43.637638",
     "exception": false,
     "start_time": "2025-04-03T17:55:43.625789",
     "status": "completed"
    },
    "tags": []
   },
   "source": [
    "## Catboost Model"
   ]
  },
  {
   "cell_type": "code",
   "execution_count": 20,
   "id": "7b905b0c",
   "metadata": {
    "execution": {
     "iopub.execute_input": "2025-04-03T17:55:43.664013Z",
     "iopub.status.busy": "2025-04-03T17:55:43.663688Z",
     "iopub.status.idle": "2025-04-03T17:55:47.352030Z",
     "shell.execute_reply": "2025-04-03T17:55:47.350708Z"
    },
    "papermill": {
     "duration": 3.702987,
     "end_time": "2025-04-03T17:55:47.353709",
     "exception": false,
     "start_time": "2025-04-03T17:55:43.650722",
     "status": "completed"
    },
    "tags": []
   },
   "outputs": [
    {
     "name": "stdout",
     "output_type": "stream",
     "text": [
      "CatBoost Classification Report:\n",
      "               precision    recall  f1-score   support\n",
      "\n",
      "           0       0.96      0.98      0.97       588\n",
      "           1       0.98      0.96      0.97       587\n",
      "\n",
      "    accuracy                           0.97      1175\n",
      "   macro avg       0.97      0.97      0.97      1175\n",
      "weighted avg       0.97      0.97      0.97      1175\n",
      "\n",
      "Confusion Matrix:\n",
      " [[578  10]\n",
      " [ 22 565]]\n"
     ]
    }
   ],
   "source": [
    "# Initialize CatBoost (silent mode)\n",
    "cat_model = CatBoostClassifier(verbose=0, random_state=42)\n",
    "\n",
    "# Train the model\n",
    "cat_model.fit(X_train, y_train)\n",
    "\n",
    "# Predict\n",
    "y_pred_cat = cat_model.predict(X_test)\n",
    "\n",
    "# Evaluate\n",
    "print(\"CatBoost Classification Report:\\n\", classification_report(y_test, y_pred_cat))\n",
    "print(\"Confusion Matrix:\\n\", confusion_matrix(y_test, y_pred_cat))"
   ]
  },
  {
   "cell_type": "markdown",
   "id": "f6ff1c48",
   "metadata": {
    "papermill": {
     "duration": 0.012465,
     "end_time": "2025-04-03T17:55:47.378860",
     "exception": false,
     "start_time": "2025-04-03T17:55:47.366395",
     "status": "completed"
    },
    "tags": []
   },
   "source": [
    "- Fewer false positives (only 10 instead of 13–16 earlier)\n",
    "- Strong precision for both classes\n",
    "- Clean and stable confusion matrix"
   ]
  },
  {
   "cell_type": "markdown",
   "id": "74f2ae4a",
   "metadata": {
    "papermill": {
     "duration": 0.012045,
     "end_time": "2025-04-03T17:55:47.403246",
     "exception": false,
     "start_time": "2025-04-03T17:55:47.391201",
     "status": "completed"
    },
    "tags": []
   },
   "source": [
    "## Voting Classifier"
   ]
  },
  {
   "cell_type": "code",
   "execution_count": 21,
   "id": "7b53561e",
   "metadata": {
    "execution": {
     "iopub.execute_input": "2025-04-03T17:55:47.429059Z",
     "iopub.status.busy": "2025-04-03T17:55:47.428725Z",
     "iopub.status.idle": "2025-04-03T17:55:51.684555Z",
     "shell.execute_reply": "2025-04-03T17:55:51.683335Z"
    },
    "papermill": {
     "duration": 4.270529,
     "end_time": "2025-04-03T17:55:51.686119",
     "exception": false,
     "start_time": "2025-04-03T17:55:47.415590",
     "status": "completed"
    },
    "tags": []
   },
   "outputs": [
    {
     "name": "stdout",
     "output_type": "stream",
     "text": [
      "Voting Ensemble Classification Report:\n",
      "               precision    recall  f1-score   support\n",
      "\n",
      "           0       0.96      0.98      0.97       588\n",
      "           1       0.98      0.96      0.97       587\n",
      "\n",
      "    accuracy                           0.97      1175\n",
      "   macro avg       0.97      0.97      0.97      1175\n",
      "weighted avg       0.97      0.97      0.97      1175\n",
      "\n",
      "Confusion Matrix:\n",
      " [[577  11]\n",
      " [ 22 565]]\n"
     ]
    }
   ],
   "source": [
    "# Wrap CatBoost for scikit-learn compatibility\n",
    "cat_model_sklearn = CatBoostClassifier(verbose=0, random_state=42)\n",
    "\n",
    "# Voting Classifier (hard voting)\n",
    "voting_clf = VotingClassifier(\n",
    "    estimators=[\n",
    "        ('xgb', XGBClassifier(use_label_encoder=False, eval_metric='logloss', random_state=42)),\n",
    "        ('cat', cat_model_sklearn),\n",
    "        ('rf', RandomForestClassifier(random_state=42))\n",
    "    ],\n",
    "    voting='hard', \n",
    "    n_jobs=-1\n",
    ")\n",
    "\n",
    "# Train the ensemble\n",
    "voting_clf.fit(X_train, y_train)\n",
    "\n",
    "# Predict and evaluate\n",
    "y_pred_ensemble = voting_clf.predict(X_test)\n",
    "\n",
    "from sklearn.metrics import classification_report, confusion_matrix\n",
    "\n",
    "print(\"Voting Ensemble Classification Report:\\n\", classification_report(y_test, y_pred_ensemble))\n",
    "print(\"Confusion Matrix:\\n\", confusion_matrix(y_test, y_pred_ensemble))"
   ]
  },
  {
   "cell_type": "markdown",
   "id": "dd2bcecd",
   "metadata": {
    "papermill": {
     "duration": 0.012062,
     "end_time": "2025-04-03T17:55:51.710965",
     "exception": false,
     "start_time": "2025-04-03T17:55:51.698903",
     "status": "completed"
    },
    "tags": []
   },
   "source": [
    "# Pipeline\n",
    "**This will:**\n",
    "- Handle preprocessing\n",
    "- Train the ensemble"
   ]
  },
  {
   "cell_type": "code",
   "execution_count": 22,
   "id": "233f95d4",
   "metadata": {
    "execution": {
     "iopub.execute_input": "2025-04-03T17:55:51.736610Z",
     "iopub.status.busy": "2025-04-03T17:55:51.736224Z",
     "iopub.status.idle": "2025-04-03T17:55:56.909157Z",
     "shell.execute_reply": "2025-04-03T17:55:56.908006Z"
    },
    "papermill": {
     "duration": 5.187819,
     "end_time": "2025-04-03T17:55:56.911022",
     "exception": false,
     "start_time": "2025-04-03T17:55:51.723203",
     "status": "completed"
    },
    "tags": []
   },
   "outputs": [
    {
     "name": "stdout",
     "output_type": "stream",
     "text": [
      "Final Pipeline Classification Report:\n",
      "               precision    recall  f1-score   support\n",
      "\n",
      "           0       0.96      0.98      0.97       588\n",
      "           1       0.98      0.96      0.97       587\n",
      "\n",
      "    accuracy                           0.97      1175\n",
      "   macro avg       0.97      0.97      0.97      1175\n",
      "weighted avg       0.97      0.97      0.97      1175\n",
      "\n"
     ]
    }
   ],
   "source": [
    "# Recreate clean train/test\n",
    "X = df.drop('target', axis=1)\n",
    "y = df['target']\n",
    "\n",
    "# Define numeric + categorical columns again\n",
    "numerical_cols = X.select_dtypes(include=['int64', 'float64']).columns.tolist()\n",
    "categorical_cols = X.select_dtypes(include=['object']).columns.tolist()\n",
    "\n",
    "# Preprocessing\n",
    "numeric_transformer = Pipeline(steps=[\n",
    "    ('imputer', SimpleImputer(strategy='median'))\n",
    "])\n",
    "\n",
    "categorical_transformer = Pipeline(steps=[\n",
    "    ('imputer', SimpleImputer(strategy='most_frequent')),\n",
    "    ('encoder', OrdinalEncoder(handle_unknown='use_encoded_value', unknown_value=-1))\n",
    "])\n",
    "\n",
    "preprocessor = ColumnTransformer(\n",
    "    transformers=[\n",
    "        ('num', numeric_transformer, numerical_cols),\n",
    "        ('cat', categorical_transformer, categorical_cols)\n",
    "    ]\n",
    ")\n",
    "\n",
    "# Final model pipeline\n",
    "final_pipeline = Pipeline(steps=[\n",
    "    ('preprocessor', preprocessor),\n",
    "    ('model', voting_clf)\n",
    "])\n",
    "\n",
    "# Fit full pipeline\n",
    "final_pipeline.fit(X_train, y_train)\n",
    "\n",
    "# Predict & evaluate\n",
    "y_pred_pipeline = final_pipeline.predict(X_test)\n",
    "print(\"Final Pipeline Classification Report:\\n\", classification_report(y_test, y_pred_pipeline))"
   ]
  },
  {
   "cell_type": "code",
   "execution_count": 23,
   "id": "80291888",
   "metadata": {
    "execution": {
     "iopub.execute_input": "2025-04-03T17:55:56.937160Z",
     "iopub.status.busy": "2025-04-03T17:55:56.936844Z",
     "iopub.status.idle": "2025-04-03T17:55:58.037363Z",
     "shell.execute_reply": "2025-04-03T17:55:58.036332Z"
    },
    "papermill": {
     "duration": 1.115596,
     "end_time": "2025-04-03T17:55:58.039407",
     "exception": false,
     "start_time": "2025-04-03T17:55:56.923811",
     "status": "completed"
    },
    "tags": []
   },
   "outputs": [
    {
     "data": {
      "image/png": "[encoded data removed]",
      "text/plain": [
       "<Figure size 800x950 with 1 Axes>"
      ]
     },
     "metadata": {},
     "output_type": "display_data"
    }
   ],
   "source": [
    "# Create explainer for CatBoost\n",
    "explainer = shap.TreeExplainer(cat_model)\n",
    "\n",
    "# Sample a subset of test data for speed\n",
    "X_sample = X_test.sample(200, random_state=42)\n",
    "\n",
    "# Compute SHAP values\n",
    "shap_values = explainer.shap_values(X_sample)\n",
    "\n",
    "# Summary plot (global feature importance)\n",
    "shap.summary_plot(shap_values, X_sample, plot_type='bar')"
   ]
  },
  {
   "cell_type": "markdown",
   "id": "c737258c",
   "metadata": {
    "papermill": {
     "duration": 0.014328,
     "end_time": "2025-04-03T17:55:58.068930",
     "exception": false,
     "start_time": "2025-04-03T17:55:58.054602",
     "status": "completed"
    },
    "tags": []
   },
   "source": [
    "```Key Global Insights:```\n",
    "- **has_status** and **city** dominate — major drivers of bot vs human prediction.\n",
    "\n",
    "- Web presence (**has_website**), education/work (**occupation_type_***), and profile completeness features (e.g., **has_photo**, **has_birth_date**, etc.) are all important.\n",
    "\n",
    "- Engagement/activity metrics (**avg_views**, **posting_frequency_days**) play a secondary role — not as impactful as identity-type features."
   ]
  },
  {
   "cell_type": "code",
   "execution_count": null,
   "id": "71f01f0e",
   "metadata": {
    "papermill": {
     "duration": 0.014151,
     "end_time": "2025-04-03T17:55:58.097597",
     "exception": false,
     "start_time": "2025-04-03T17:55:58.083446",
     "status": "completed"
    },
    "tags": []
   },
   "outputs": [],
   "source": []
  },
  {
   "cell_type": "markdown",
   "id": "49610cbc",
   "metadata": {
    "papermill": {
     "duration": 0.013944,
     "end_time": "2025-04-03T17:55:58.125804",
     "exception": false,
     "start_time": "2025-04-03T17:55:58.111860",
     "status": "completed"
    },
    "tags": []
   },
   "source": [
    "# ✅ Final Results Summary\n",
    "\n",
    "In this notebook, we tackled the task of distinguishing between **genuine users and bots** on VK.com using profile metadata and behavioral features. Here's a summary of the steps and results:\n",
    "\n",
    "---\n",
    "\n",
    "### 🧪 **Approach:**\n",
    "1. **Minimal EDA** with a focus on feature types and missing value treatment\n",
    "2. Label encoding for categorical variables and imputation for numerical features\n",
    "3. Trained multiple models:  \n",
    "   - **Random Forest**  \n",
    "   - **XGBoost**  \n",
    "   - **CatBoost**\n",
    "4. Built a **Voting Ensemble** combining all three models\n",
    "5. Wrapped the best-performing pipeline using `scikit-learn`’s `Pipeline`\n",
    "6. Added **model explainability** using **SHAP** on the CatBoost model\n",
    "\n",
    "---\n",
    "\n",
    "### 🎯 **Best Model Performance (Voting Ensemble):**\n",
    "- **Accuracy:** 97%\n",
    "- **Precision:** 0.96 (Class 0), 0.98 (Class 1)\n",
    "- **Recall:** 0.98 (Class 0), 0.96 (Class 1)\n",
    "- Balanced and robust across both classes\n",
    "\n",
    "---\n",
    "\n",
    "### 🔍 **Top Predictive Features (via SHAP):**\n",
    "- `has_status`\n",
    "- `city`\n",
    "- `has_website`\n",
    "- `occupation_type_university`\n",
    "- `has_photo`, `gender`, `all_posts_visible`\n",
    "  \n",
    "These features suggest that **profile completeness, network openness, and professional metadata** are key signals for detecting bots.\n",
    "\n",
    "---\n",
    "\n",
    "### 🧠 **Key Takeaway:**\n",
    "Using tree-based models with minimal preprocessing and a balanced dataset, it's possible to build a highly accurate and interpretable solution for bot detection. **CatBoost and SHAP** provided the best blend of performance and explainability."
   ]
  },
  {
   "cell_type": "code",
   "execution_count": null,
   "id": "49f4a67a",
   "metadata": {
    "papermill": {
     "duration": 0.014122,
     "end_time": "2025-04-03T17:55:58.154287",
     "exception": false,
     "start_time": "2025-04-03T17:55:58.140165",
     "status": "completed"
    },
    "tags": []
   },
   "outputs": [],
   "source": []
  }
 ],
 "metadata": {
  "kaggle": {
   "accelerator": "none",
   "dataSources": [
    {
     "datasetId": 6999922,
     "sourceId": 11216341,
     "sourceType": "datasetVersion"
    }
   ],
   "dockerImageVersionId": 30918,
   "isGpuEnabled": false,
   "isInternetEnabled": true,
   "language": "python",
   "sourceType": "notebook"
  },
  "kernelspec": {
   "display_name": "Python 3",
   "language": "python",
   "name": "python3"
  },
  "language_info": {
   "codemirror_mode": {
    "name": "ipython",
    "version": 3
   },
   "file_extension": ".py",
   "mimetype": "text/x-python",
   "name": "python",
   "nbconvert_exporter": "python",
   "pygments_lexer": "ipython3",
   "version": "3.10.12"
  },
  "papermill": {
   "default_parameters": {},
   "duration": 47.366732,
   "end_time": "2025-04-03T17:56:00.092879",
   "environment_variables": {},
   "exception": null,
   "input_path": "__notebook__.ipynb",
   "output_path": "__notebook__.ipynb",
   "parameters": {},
   "start_time": "2025-04-03T17:55:12.726147",
   "version": "2.6.0"
  }
 },
 "nbformat": 4,
 "nbformat_minor": 5
}
